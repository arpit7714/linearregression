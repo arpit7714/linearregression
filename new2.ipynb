{
  "nbformat": 4,
  "nbformat_minor": 0,
  "metadata": {
    "colab": {
      "name": "Untitled0.ipynb",
      "version": "0.3.2",
      "provenance": [],
      "collapsed_sections": [],
      "include_colab_link": true
    },
    "kernelspec": {
      "name": "python3",
      "display_name": "Python 3"
    }
  },
  "cells": [
    {
      "cell_type": "markdown",
      "metadata": {
        "id": "view-in-github",
        "colab_type": "text"
      },
      "source": [
        "<a href=\"https://colab.research.google.com/github/arpit7714/linearregression/blob/master/new2.ipynb\" target=\"_parent\"><img src=\"https://colab.research.google.com/assets/colab-badge.svg\" alt=\"Open In Colab\"/></a>"
      ]
    },
    {
      "metadata": {
        "id": "oKPLMpyoCzDR",
        "colab_type": "code",
        "outputId": "bd4150d9-9ddb-4f64-c538-ad757a96c261",
        "colab": {
          "base_uri": "https://localhost:8080/",
          "height": 530
        }
      },
      "cell_type": "code",
      "source": [
        "import tensorflow as tf\n",
        "from tensorflow.examples.tutorials.mnist import input_data\n",
        "mnist = input_data.read_data_sets(\"MNIST_data/\", one_hot=True) # y labels are oh-encoded"
      ],
      "execution_count": 2,
      "outputs": [
        {
          "output_type": "stream",
          "text": [
            "WARNING:tensorflow:From <ipython-input-2-450037b72589>:3: read_data_sets (from tensorflow.contrib.learn.python.learn.datasets.mnist) is deprecated and will be removed in a future version.\n",
            "Instructions for updating:\n",
            "Please use alternatives such as official/mnist/dataset.py from tensorflow/models.\n",
            "WARNING:tensorflow:From /usr/local/lib/python3.6/dist-packages/tensorflow/contrib/learn/python/learn/datasets/mnist.py:260: maybe_download (from tensorflow.contrib.learn.python.learn.datasets.base) is deprecated and will be removed in a future version.\n",
            "Instructions for updating:\n",
            "Please write your own downloading logic.\n",
            "WARNING:tensorflow:From /usr/local/lib/python3.6/dist-packages/tensorflow/contrib/learn/python/learn/datasets/base.py:252: _internal_retry.<locals>.wrap.<locals>.wrapped_fn (from tensorflow.contrib.learn.python.learn.datasets.base) is deprecated and will be removed in a future version.\n",
            "Instructions for updating:\n",
            "Please use urllib or similar directly.\n",
            "Successfully downloaded train-images-idx3-ubyte.gz 9912422 bytes.\n",
            "WARNING:tensorflow:From /usr/local/lib/python3.6/dist-packages/tensorflow/contrib/learn/python/learn/datasets/mnist.py:262: extract_images (from tensorflow.contrib.learn.python.learn.datasets.mnist) is deprecated and will be removed in a future version.\n",
            "Instructions for updating:\n",
            "Please use tf.data to implement this functionality.\n",
            "Extracting MNIST_data/train-images-idx3-ubyte.gz\n",
            "Successfully downloaded train-labels-idx1-ubyte.gz 28881 bytes.\n",
            "WARNING:tensorflow:From /usr/local/lib/python3.6/dist-packages/tensorflow/contrib/learn/python/learn/datasets/mnist.py:267: extract_labels (from tensorflow.contrib.learn.python.learn.datasets.mnist) is deprecated and will be removed in a future version.\n",
            "Instructions for updating:\n",
            "Please use tf.data to implement this functionality.\n",
            "Extracting MNIST_data/train-labels-idx1-ubyte.gz\n",
            "WARNING:tensorflow:From /usr/local/lib/python3.6/dist-packages/tensorflow/contrib/learn/python/learn/datasets/mnist.py:110: dense_to_one_hot (from tensorflow.contrib.learn.python.learn.datasets.mnist) is deprecated and will be removed in a future version.\n",
            "Instructions for updating:\n",
            "Please use tf.one_hot on tensors.\n",
            "Successfully downloaded t10k-images-idx3-ubyte.gz 1648877 bytes.\n",
            "Extracting MNIST_data/t10k-images-idx3-ubyte.gz\n",
            "Successfully downloaded t10k-labels-idx1-ubyte.gz 4542 bytes.\n",
            "Extracting MNIST_data/t10k-labels-idx1-ubyte.gz\n",
            "WARNING:tensorflow:From /usr/local/lib/python3.6/dist-packages/tensorflow/contrib/learn/python/learn/datasets/mnist.py:290: DataSet.__init__ (from tensorflow.contrib.learn.python.learn.datasets.mnist) is deprecated and will be removed in a future version.\n",
            "Instructions for updating:\n",
            "Please use alternatives such as official/mnist/dataset.py from tensorflow/models.\n"
          ],
          "name": "stdout"
        }
      ]
    },
    {
      "metadata": {
        "id": "Da0KZu7gDjU5",
        "colab_type": "code",
        "outputId": "3fb36d37-b256-4257-8048-b28048ca552a",
        "colab": {
          "base_uri": "https://localhost:8080/",
          "height": 34
        }
      },
      "cell_type": "code",
      "source": [
        "m_train=mnist.train.num_examples\n",
        "m_test=mnist.test.num_examples\n",
        "m_validation=mnist.validation.num_examples\n",
        "print(m_train,m_test,m_validation)"
      ],
      "execution_count": 3,
      "outputs": [
        {
          "output_type": "stream",
          "text": [
            "55000 10000 5000\n"
          ],
          "name": "stdout"
        }
      ]
    },
    {
      "metadata": {
        "id": "K0Uu6-nQEucZ",
        "colab_type": "code",
        "colab": {}
      },
      "cell_type": "code",
      "source": [
        "#global variables\n",
        "n_input=784\n",
        "n_hidden1=512\n",
        "n_hidden2=256\n",
        "n_hidden3=128\n",
        "n_hidden4=64\n",
        "n_output=10"
      ],
      "execution_count": 0,
      "outputs": []
    },
    {
      "metadata": {
        "id": "H8MAKUxmZbek",
        "colab_type": "code",
        "colab": {}
      },
      "cell_type": "code",
      "source": [
        "#hyperparameters reamins constant during the process of training\n",
        "learning_rate=1e-4\n",
        "epoch=1000\n",
        "batch_size=32\n",
        "dropout=0.5"
      ],
      "execution_count": 0,
      "outputs": []
    },
    {
      "metadata": {
        "id": "9Z9Y1iWTboO5",
        "colab_type": "code",
        "colab": {}
      },
      "cell_type": "code",
      "source": [
        "#truncated_normal values are basically intialized value of the weight\n",
        "#these values are close to zero and are rondom \n",
        "weights = {\n",
        "    'w1':tf.Variable(tf.truncated_normal([n_input,n_hidden1],stddev=0.1)),\n",
        "    'w2':tf.Variable(tf.truncated_normal([n_hidden1,n_hidden2],stddev=0.1)),\n",
        "    'w3':tf.Variable(tf.truncated_normal([n_hidden2,n_hidden3],stddev=0.1)),\n",
        "    'w4':tf.Variable(tf.truncated_normal([n_hidden3,n_hidden4],stddev=0.1)),\n",
        "    'w5':tf.Variable(tf.truncated_normal([n_hidden4 , n_output ],stddev=0.1))\n",
        "    \n",
        "    \n",
        "}             "
      ],
      "execution_count": 0,
      "outputs": []
    },
    {
      "metadata": {
        "id": "Ry9i99IXkTbq",
        "colab_type": "code",
        "outputId": "7ddc28f7-401d-4537-df7f-c104d7df6887",
        "colab": {
          "base_uri": "https://localhost:8080/",
          "height": 34
        }
      },
      "cell_type": "code",
      "source": [
        "print(weights['w1'])"
      ],
      "execution_count": 7,
      "outputs": [
        {
          "output_type": "stream",
          "text": [
            "<tf.Variable 'Variable:0' shape=(784, 512) dtype=float32_ref>\n"
          ],
          "name": "stdout"
        }
      ]
    },
    {
      "metadata": {
        "id": "r3znObOWm_ZD",
        "colab_type": "text"
      },
      "cell_type": "markdown",
      "source": [
        ""
      ]
    },
    {
      "metadata": {
        "id": "TwTqm9pMkxNY",
        "colab_type": "code",
        "colab": {}
      },
      "cell_type": "code",
      "source": [
        "biases={\n",
        "    'b1':tf.Variable(tf.constant(0.1,shape=[n_hidden1])),\n",
        "    'b2':tf.Variable(tf.constant(0.1,shape=[n_hidden2])),\n",
        "    'b3':tf.Variable(tf.constant(0.1,shape=[n_hidden3])),\n",
        "    'b4':tf.Variable(tf.constant(0.1,shape=[n_hidden4])),\n",
        "    'b5':tf.Variable(tf.constant(0.1,shape=[n_output]))\n",
        "    \n",
        "}"
      ],
      "execution_count": 0,
      "outputs": []
    },
    {
      "metadata": {
        "id": "PU_qJXNtoOHs",
        "colab_type": "code",
        "outputId": "6b9a0913-29e5-4f35-8fa4-224f7aae26ad",
        "colab": {
          "base_uri": "https://localhost:8080/",
          "height": 34
        }
      },
      "cell_type": "code",
      "source": [
        "print(biases['b1'])"
      ],
      "execution_count": 9,
      "outputs": [
        {
          "output_type": "stream",
          "text": [
            "<tf.Variable 'Variable_5:0' shape=(512,) dtype=float32_ref>\n"
          ],
          "name": "stdout"
        }
      ]
    },
    {
      "metadata": {
        "id": "ob5gqZUpoUS4",
        "colab_type": "code",
        "colab": {}
      },
      "cell_type": "code",
      "source": [
        "X=tf.placeholder(\"float\",[None,n_input])\n",
        "Y=tf.placeholder(\"float\",[None,n_output])"
      ],
      "execution_count": 0,
      "outputs": []
    },
    {
      "metadata": {
        "id": "IQ_h-lqLrtQJ",
        "colab_type": "code",
        "colab": {}
      },
      "cell_type": "code",
      "source": [
        "\n",
        "#neural network\n",
        "layer_1=tf.add(tf.matmul(X,weights['w1']),biases['b1'])\n",
        "out_1=tf.nn.relu(layer_1)\n",
        "layer_2=tf.add(tf.matmul(out_1,weights['w2']),biases['b2'])\n",
        "out_2=tf.nn.relu(layer_2)\n",
        "layer_3=tf.add(tf.matmul(out_2,weights['w3']),biases['b3'])\n",
        "out_3=tf.nn.relu(layer_3)\n",
        "layer_4=tf.add(tf.matmul(out_3,weights['w4']),biases['b4'])\n",
        "out_4=tf.nn.relu(layer_4)\n",
        "layer_5=tf.add(tf.matmul(out_4,weights['w5']),biases['b5'])\n"
      ],
      "execution_count": 0,
      "outputs": []
    },
    {
      "metadata": {
        "id": "0UZErLsKsLLA",
        "colab_type": "code",
        "colab": {
          "base_uri": "https://localhost:8080/",
          "height": 173
        },
        "outputId": "40376039-1ec8-45a1-a18d-e0e88c36af07"
      },
      "cell_type": "code",
      "source": [
        "#cross entropy of log-loss function to optimize the cost\n",
        "cost=tf.reduce_mean(tf.nn.softmax_cross_entropy_with_logits(labels=Y,logits=layer_5))\n",
        "train_step=tf.train.AdamOptimizer(learning_rate).minimize(cost)"
      ],
      "execution_count": 12,
      "outputs": [
        {
          "output_type": "stream",
          "text": [
            "WARNING:tensorflow:From <ipython-input-12-b3aa6675677a>:1: softmax_cross_entropy_with_logits (from tensorflow.python.ops.nn_ops) is deprecated and will be removed in a future version.\n",
            "Instructions for updating:\n",
            "\n",
            "Future major versions of TensorFlow will allow gradients to flow\n",
            "into the labels input on backprop by default.\n",
            "\n",
            "See `tf.nn.softmax_cross_entropy_with_logits_v2`.\n",
            "\n"
          ],
          "name": "stdout"
        }
      ]
    },
    {
      "metadata": {
        "id": "bBRN-34_vH5t",
        "colab_type": "code",
        "colab": {}
      },
      "cell_type": "code",
      "source": [
        "\n",
        "#correct prediction\n",
        "prediction=tf.equal(tf.argmax(layer_5,1),tf.argmax(Y,1))\n",
        "#accuracy how many it is telling correctly\n",
        "accuracy = tf.reduce_mean(tf.cast(prediction,tf.float32))"
      ],
      "execution_count": 0,
      "outputs": []
    },
    {
      "metadata": {
        "id": "zm03v1n6qWog",
        "colab_type": "code",
        "colab": {}
      },
      "cell_type": "code",
      "source": [
        "init=tf.global_variables_initializer()\n",
        "sess = tf.Session()\n",
        "sess.run(init)"
      ],
      "execution_count": 0,
      "outputs": []
    },
    {
      "metadata": {
        "id": "Uij0mxyUvyjj",
        "colab_type": "code",
        "outputId": "443834a9-a113-4ee4-aeb1-8023525a9dad",
        "colab": {
          "base_uri": "https://localhost:8080/",
          "height": 701
        }
      },
      "cell_type": "code",
      "source": [
        "import matplotlib.pyplot as plt\n",
        "costlist=[]\n",
        "for i in range(2000):\n",
        "  batch_x,batch_y=mnist.train.next_batch(batch_size)\n",
        "  sess.run(train_step,feed_dict={X:batch_x,Y:batch_y})\n",
        "  if i%100==0:\n",
        "    minibatch_loss,minbatch_accuracy=sess.run([cost,accuracy],feed_dict={X:batch_x,Y:batch_y})\n",
        "    print(\"iteration\",str(i),\"\\t LOSS=\",str(minibatch_loss),\"\\tAccuracy =\",str(minbatch_accuracy))\n",
        "    costlist.append(minibatch_loss)\n",
        "num=[]\n",
        "for j in range(20):\n",
        "  num.append(j)\n",
        "plt.plot(num,costlist)\n",
        "plt.ylabel('cost')\n",
        "plt.xlabel('iterations')\n",
        "plt.show()"
      ],
      "execution_count": 15,
      "outputs": [
        {
          "output_type": "stream",
          "text": [
            "iteration 0 \t LOSS= 2.3754115 \tAccuracy = 0.0625\n",
            "iteration 100 \t LOSS= 1.146626 \tAccuracy = 0.65625\n",
            "iteration 200 \t LOSS= 0.6017398 \tAccuracy = 0.78125\n",
            "iteration 300 \t LOSS= 0.6231806 \tAccuracy = 0.84375\n",
            "iteration 400 \t LOSS= 0.4185015 \tAccuracy = 0.875\n",
            "iteration 500 \t LOSS= 0.541358 \tAccuracy = 0.8125\n",
            "iteration 600 \t LOSS= 0.24832577 \tAccuracy = 0.96875\n",
            "iteration 700 \t LOSS= 0.32132295 \tAccuracy = 0.875\n",
            "iteration 800 \t LOSS= 0.27404577 \tAccuracy = 0.875\n",
            "iteration 900 \t LOSS= 0.23525524 \tAccuracy = 0.90625\n",
            "iteration 1000 \t LOSS= 0.20376179 \tAccuracy = 0.90625\n",
            "iteration 1100 \t LOSS= 0.10023135 \tAccuracy = 0.96875\n",
            "iteration 1200 \t LOSS= 0.09400271 \tAccuracy = 1.0\n",
            "iteration 1300 \t LOSS= 0.24844962 \tAccuracy = 0.875\n",
            "iteration 1400 \t LOSS= 0.25886846 \tAccuracy = 0.96875\n",
            "iteration 1500 \t LOSS= 0.34287533 \tAccuracy = 0.9375\n",
            "iteration 1600 \t LOSS= 0.56285095 \tAccuracy = 0.84375\n",
            "iteration 1700 \t LOSS= 0.25861508 \tAccuracy = 0.9375\n",
            "iteration 1800 \t LOSS= 0.18518756 \tAccuracy = 0.9375\n",
            "iteration 1900 \t LOSS= 0.31507024 \tAccuracy = 0.9375\n"
          ],
          "name": "stdout"
        },
        {
          "output_type": "display_data",
          "data": {
            "image/png": "[encoded data removed]",
            "text/plain": [
              "<matplotlib.figure.Figure at 0x7f729a05cf60>"
            ]
          },
          "metadata": {
            "tags": []
          }
        }
      ]
    },
    {
      "metadata": {
        "id": "YIORGWymxNsK",
        "colab_type": "code",
        "colab": {}
      },
      "cell_type": "code",
      "source": [
        "import numpy as np \n"
      ],
      "execution_count": 0,
      "outputs": []
    },
    {
      "metadata": {
        "id": "x9QvrQfzcQFg",
        "colab_type": "code",
        "outputId": "d3ad5e16-51de-4195-da6d-a25cddb10448",
        "colab": {
          "base_uri": "https://localhost:8080/",
          "height": 381
        }
      },
      "cell_type": "code",
      "source": [
        "import matplotlib.pyplot as plt\n",
        "import scipy\n",
        "from PIL import Image\n",
        "from scipy import ndimage\n",
        "#img = np.invert(Image.open(\"img_20181230_153400__5r8Db.jpg\").convert('L')).ravel()\n",
        "#my_image = \"img_20181230_153400__5r8Db.jpg\"\n",
        "#fname = my_image\n",
        "#image = np.array(ndimage.imread(fname, flatten=False))\n",
        "#my_image = scipy.misc.imresize(image, size=(28,28)).reshape((1, 64 * 64 * 3)).T\n",
        "#my_image_prediction = predict(my_image, parameters)\n",
        "#plt.imshow(image)\n",
        "\n",
        "#plt.show(img)\n",
        "img1=mnist.test.images[100]\n",
        "plt.imshow(img1.reshape(28,28),cmap='Greys')\n",
        "img=np.reshape(img1,(1,784))\n",
        "prediction1 = sess.run(tf.argmax(layer_5,1), feed_dict={X: img})\n",
        "print(prediction1)\n",
        "print(\"prediction\",np.squeeze(prediction1))"
      ],
      "execution_count": 50,
      "outputs": [
        {
          "output_type": "stream",
          "text": [
            "[6]\n",
            "prediction 6\n"
          ],
          "name": "stdout"
        },
        {
          "output_type": "display_data",
          "data": {
            "image/png": "[encoded data removed]",
            "text/plain": [
              "<matplotlib.figure.Figure at 0x7f727e30c668>"
            ]
          },
          "metadata": {
            "tags": []
          }
        }
      ]
    },
    {
      "metadata": {
        "id": "uiQv8QmqK1gL",
        "colab_type": "code",
        "colab": {
          "base_uri": "https://localhost:8080/",
          "height": 187
        },
        "outputId": "56fd59f2-1f68-4a13-eb00-4fe3f8db2a0a"
      },
      "cell_type": "code",
      "source": [
        "#one-hot encoding images data set\n",
        "mnist.train.labels[0:10]\n"
      ],
      "execution_count": 21,
      "outputs": [
        {
          "output_type": "execute_result",
          "data": {
            "text/plain": [
              "array([[0., 0., 0., 0., 0., 0., 1., 0., 0., 0.],\n",
              "       [0., 0., 0., 0., 0., 0., 0., 0., 1., 0.],\n",
              "       [0., 0., 0., 0., 1., 0., 0., 0., 0., 0.],\n",
              "       [0., 1., 0., 0., 0., 0., 0., 0., 0., 0.],\n",
              "       [0., 0., 1., 0., 0., 0., 0., 0., 0., 0.],\n",
              "       [0., 0., 0., 0., 0., 0., 0., 0., 1., 0.],\n",
              "       [0., 0., 0., 0., 0., 0., 1., 0., 0., 0.],\n",
              "       [1., 0., 0., 0., 0., 0., 0., 0., 0., 0.],\n",
              "       [0., 0., 0., 1., 0., 0., 0., 0., 0., 0.],\n",
              "       [0., 0., 0., 0., 0., 0., 0., 0., 0., 1.]])"
            ]
          },
          "metadata": {
            "tags": []
          },
          "execution_count": 21
        }
      ]
    },
    {
      "metadata": {
        "id": "EXVmycQko-ii",
        "colab_type": "code",
        "colab": {
          "base_uri": "https://localhost:8080/",
          "height": 34
        },
        "outputId": "e2ad6257-ea1c-4c56-eecc-826de80f233d"
      },
      "cell_type": "code",
      "source": [
        "#converting the one-hot encoding into the single numbers \n",
        "dataarr=np.array([data.argmax() for data in mnist.test.labels])\n",
        "dataarr[0:10]"
      ],
      "execution_count": 23,
      "outputs": [
        {
          "output_type": "execute_result",
          "data": {
            "text/plain": [
              "array([7, 2, 1, 0, 4, 1, 4, 9, 5, 9])"
            ]
          },
          "metadata": {
            "tags": []
          },
          "execution_count": 23
        }
      ]
    },
    {
      "metadata": {
        "id": "Q7nRD64lo--D",
        "colab_type": "code",
        "colab": {}
      },
      "cell_type": "code",
      "source": [
        ""
      ],
      "execution_count": 0,
      "outputs": []
    },
    {
      "metadata": {
        "id": "-c30poZ_MRmG",
        "colab_type": "code",
        "colab": {}
      },
      "cell_type": "code",
      "source": [
        ""
      ],
      "execution_count": 0,
      "outputs": []
    }
  ]
}
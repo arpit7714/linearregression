{
  "nbformat": 4,
  "nbformat_minor": 0,
  "metadata": {
    "colab": {
      "name": "Untitled0.ipynb",
      "version": "0.3.2",
      "provenance": [],
      "collapsed_sections": [],
      "toc_visible": true,
      "include_colab_link": true
    },
    "kernelspec": {
      "name": "python3",
      "display_name": "Python 3"
    }
  },
  "cells": [
    {
      "cell_type": "markdown",
      "metadata": {
        "id": "view-in-github",
        "colab_type": "text"
      },
      "source": [
        "<a href=\"https://colab.research.google.com/github/arpit7714/linearregression/blob/master/new2.ipynb\" target=\"_parent\"><img src=\"https://colab.research.google.com/assets/colab-badge.svg\" alt=\"Open In Colab\"/></a>"
      ]
    },
    {
      "metadata": {
        "id": "oKPLMpyoCzDR",
        "colab_type": "code",
        "outputId": "99ddca09-7da8-43f1-9b9e-0585aeede3cf",
        "colab": {
          "base_uri": "https://localhost:8080/",
          "height": 530
        }
      },
      "cell_type": "code",
      "source": [
        "import tensorflow as tf\n",
        "from tensorflow.examples.tutorials.mnist import input_data\n",
        "mnist = input_data.read_data_sets(\"MNIST_data/\", one_hot=True) # y labels are oh-encoded"
      ],
      "execution_count": 2,
      "outputs": [
        {
          "output_type": "stream",
          "text": [
            "WARNING:tensorflow:From <ipython-input-2-450037b72589>:3: read_data_sets (from tensorflow.contrib.learn.python.learn.datasets.mnist) is deprecated and will be removed in a future version.\n",
            "Instructions for updating:\n",
            "Please use alternatives such as official/mnist/dataset.py from tensorflow/models.\n",
            "WARNING:tensorflow:From /usr/local/lib/python3.6/dist-packages/tensorflow/contrib/learn/python/learn/datasets/mnist.py:260: maybe_download (from tensorflow.contrib.learn.python.learn.datasets.base) is deprecated and will be removed in a future version.\n",
            "Instructions for updating:\n",
            "Please write your own downloading logic.\n",
            "WARNING:tensorflow:From /usr/local/lib/python3.6/dist-packages/tensorflow/contrib/learn/python/learn/datasets/base.py:252: _internal_retry.<locals>.wrap.<locals>.wrapped_fn (from tensorflow.contrib.learn.python.learn.datasets.base) is deprecated and will be removed in a future version.\n",
            "Instructions for updating:\n",
            "Please use urllib or similar directly.\n",
            "Successfully downloaded train-images-idx3-ubyte.gz 9912422 bytes.\n",
            "WARNING:tensorflow:From /usr/local/lib/python3.6/dist-packages/tensorflow/contrib/learn/python/learn/datasets/mnist.py:262: extract_images (from tensorflow.contrib.learn.python.learn.datasets.mnist) is deprecated and will be removed in a future version.\n",
            "Instructions for updating:\n",
            "Please use tf.data to implement this functionality.\n",
            "Extracting MNIST_data/train-images-idx3-ubyte.gz\n",
            "Successfully downloaded train-labels-idx1-ubyte.gz 28881 bytes.\n",
            "WARNING:tensorflow:From /usr/local/lib/python3.6/dist-packages/tensorflow/contrib/learn/python/learn/datasets/mnist.py:267: extract_labels (from tensorflow.contrib.learn.python.learn.datasets.mnist) is deprecated and will be removed in a future version.\n",
            "Instructions for updating:\n",
            "Please use tf.data to implement this functionality.\n",
            "Extracting MNIST_data/train-labels-idx1-ubyte.gz\n",
            "WARNING:tensorflow:From /usr/local/lib/python3.6/dist-packages/tensorflow/contrib/learn/python/learn/datasets/mnist.py:110: dense_to_one_hot (from tensorflow.contrib.learn.python.learn.datasets.mnist) is deprecated and will be removed in a future version.\n",
            "Instructions for updating:\n",
            "Please use tf.one_hot on tensors.\n",
            "Successfully downloaded t10k-images-idx3-ubyte.gz 1648877 bytes.\n",
            "Extracting MNIST_data/t10k-images-idx3-ubyte.gz\n",
            "Successfully downloaded t10k-labels-idx1-ubyte.gz 4542 bytes.\n",
            "Extracting MNIST_data/t10k-labels-idx1-ubyte.gz\n",
            "WARNING:tensorflow:From /usr/local/lib/python3.6/dist-packages/tensorflow/contrib/learn/python/learn/datasets/mnist.py:290: DataSet.__init__ (from tensorflow.contrib.learn.python.learn.datasets.mnist) is deprecated and will be removed in a future version.\n",
            "Instructions for updating:\n",
            "Please use alternatives such as official/mnist/dataset.py from tensorflow/models.\n"
          ],
          "name": "stdout"
        }
      ]
    },
    {
      "metadata": {
        "id": "Da0KZu7gDjU5",
        "colab_type": "code",
        "outputId": "6da185ac-04bd-4d0b-c669-317ba2f99208",
        "colab": {
          "base_uri": "https://localhost:8080/",
          "height": 34
        }
      },
      "cell_type": "code",
      "source": [
        "m_train=mnist.train.num_examples\n",
        "m_test=mnist.test.num_examples\n",
        "m_validation=mnist.validation.num_examples\n",
        "print(m_train,m_test,m_validation)"
      ],
      "execution_count": 3,
      "outputs": [
        {
          "output_type": "stream",
          "text": [
            "55000 10000 5000\n"
          ],
          "name": "stdout"
        }
      ]
    },
    {
      "metadata": {
        "id": "K0Uu6-nQEucZ",
        "colab_type": "code",
        "colab": {}
      },
      "cell_type": "code",
      "source": [
        "#global variables\n",
        "n_input=784\n",
        "n_hidden1=512\n",
        "n_hidden2=256\n",
        "n_hidden3=128\n",
        "n_hidden4=64\n",
        "n_output=10"
      ],
      "execution_count": 0,
      "outputs": []
    },
    {
      "metadata": {
        "id": "H8MAKUxmZbek",
        "colab_type": "code",
        "colab": {}
      },
      "cell_type": "code",
      "source": [
        "#hyperparameters reamins constant during the process of training\n",
        "import math \n",
        "step = tf.placeholder(tf.int32)\n",
        "learning_rate=0.0001 +  tf.train.exponential_decay(0.003, step, 2000, 1/math.e)\n",
        "epoch=1000\n",
        "batch_size=64\n",
        "dropout=0.5"
      ],
      "execution_count": 0,
      "outputs": []
    },
    {
      "metadata": {
        "id": "9Z9Y1iWTboO5",
        "colab_type": "code",
        "colab": {}
      },
      "cell_type": "code",
      "source": [
        "#truncated_normal values are basically intialized value of the weight\n",
        "#these values are close to zero and are rondom \n",
        "weights = {\n",
        "    'w1':tf.Variable(tf.truncated_normal([n_input,n_hidden1],stddev=0.1)),\n",
        "    'w2':tf.Variable(tf.truncated_normal([n_hidden1,n_hidden2],stddev=0.1)),\n",
        "    'w3':tf.Variable(tf.truncated_normal([n_hidden2,n_hidden3],stddev=0.1)),\n",
        "    'w4':tf.Variable(tf.truncated_normal([n_hidden3,n_hidden4],stddev=0.1)),\n",
        "    'w5':tf.Variable(tf.truncated_normal([n_hidden4 , n_output ],stddev=0.1))\n",
        "    \n",
        "    \n",
        "}             "
      ],
      "execution_count": 0,
      "outputs": []
    },
    {
      "metadata": {
        "id": "Ry9i99IXkTbq",
        "colab_type": "code",
        "outputId": "6688e6f9-7995-4072-ba48-baa6a455e092",
        "colab": {
          "base_uri": "https://localhost:8080/",
          "height": 34
        }
      },
      "cell_type": "code",
      "source": [
        "print(weights['w1'])"
      ],
      "execution_count": 7,
      "outputs": [
        {
          "output_type": "stream",
          "text": [
            "<tf.Variable 'Variable:0' shape=(784, 512) dtype=float32_ref>\n"
          ],
          "name": "stdout"
        }
      ]
    },
    {
      "metadata": {
        "id": "r3znObOWm_ZD",
        "colab_type": "text"
      },
      "cell_type": "markdown",
      "source": [
        ""
      ]
    },
    {
      "metadata": {
        "id": "TwTqm9pMkxNY",
        "colab_type": "code",
        "colab": {}
      },
      "cell_type": "code",
      "source": [
        "biases={\n",
        "    'b1':tf.Variable(tf.constant(0.1,shape=[n_hidden1])),\n",
        "    'b2':tf.Variable(tf.constant(0.1,shape=[n_hidden2])),\n",
        "    'b3':tf.Variable(tf.constant(0.1,shape=[n_hidden3])),\n",
        "    'b4':tf.Variable(tf.constant(0.1,shape=[n_hidden4])),\n",
        "    'b5':tf.Variable(tf.constant(0.1,shape=[n_output]))\n",
        "    \n",
        "}"
      ],
      "execution_count": 0,
      "outputs": []
    },
    {
      "metadata": {
        "id": "PU_qJXNtoOHs",
        "colab_type": "code",
        "outputId": "054c5957-c90c-4d33-b90c-39e74f32fa81",
        "colab": {
          "base_uri": "https://localhost:8080/",
          "height": 34
        }
      },
      "cell_type": "code",
      "source": [
        "print(biases['b1'])"
      ],
      "execution_count": 9,
      "outputs": [
        {
          "output_type": "stream",
          "text": [
            "<tf.Variable 'Variable_5:0' shape=(512,) dtype=float32_ref>\n"
          ],
          "name": "stdout"
        }
      ]
    },
    {
      "metadata": {
        "id": "ob5gqZUpoUS4",
        "colab_type": "code",
        "colab": {}
      },
      "cell_type": "code",
      "source": [
        "X=tf.placeholder(\"float\",[None,n_input])\n",
        "keep_prob = tf.placeholder(tf.float32) \n",
        "Y=tf.placeholder(\"float\",[None,n_output])"
      ],
      "execution_count": 0,
      "outputs": []
    },
    {
      "metadata": {
        "id": "IQ_h-lqLrtQJ",
        "colab_type": "code",
        "colab": {}
      },
      "cell_type": "code",
      "source": [
        "\n",
        "#neural network\n",
        "layer_1=tf.add(tf.matmul(X,weights['w1']),biases['b1'])\n",
        "out_1=tf.nn.relu(layer_1)\n",
        "layer_2=tf.add(tf.matmul(out_1,weights['w2']),biases['b2'])\n",
        "out_2=tf.nn.relu(layer_2)\n",
        "layer_3=tf.add(tf.matmul(out_2,weights['w3']),biases['b3'])\n",
        "out_3=tf.nn.relu(layer_3)\n",
        "layer_4=tf.add(tf.matmul(out_3,weights['w4']),biases['b4'])\n",
        "layer_drop = tf.nn.dropout(layer_4, keep_prob)\n",
        "out_4=tf.nn.relu(layer_4)\n",
        "layer_5=tf.add(tf.matmul(out_4,weights['w5']),biases['b5'])\n"
      ],
      "execution_count": 0,
      "outputs": []
    },
    {
      "metadata": {
        "id": "0UZErLsKsLLA",
        "colab_type": "code",
        "outputId": "0e3a0a65-b745-4d2f-8550-542e4966e5f9",
        "colab": {
          "base_uri": "https://localhost:8080/",
          "height": 173
        }
      },
      "cell_type": "code",
      "source": [
        "#cross entropy of log-loss function to optimize the cost\n",
        "cost=tf.reduce_mean(tf.nn.softmax_cross_entropy_with_logits(labels=Y,logits=layer_5))\n",
        "train_step=tf.train.AdamOptimizer(learning_rate).minimize(cost)"
      ],
      "execution_count": 12,
      "outputs": [
        {
          "output_type": "stream",
          "text": [
            "WARNING:tensorflow:From <ipython-input-12-b3aa6675677a>:1: softmax_cross_entropy_with_logits (from tensorflow.python.ops.nn_ops) is deprecated and will be removed in a future version.\n",
            "Instructions for updating:\n",
            "\n",
            "Future major versions of TensorFlow will allow gradients to flow\n",
            "into the labels input on backprop by default.\n",
            "\n",
            "See `tf.nn.softmax_cross_entropy_with_logits_v2`.\n",
            "\n"
          ],
          "name": "stdout"
        }
      ]
    },
    {
      "metadata": {
        "id": "bBRN-34_vH5t",
        "colab_type": "code",
        "colab": {}
      },
      "cell_type": "code",
      "source": [
        "\n",
        "#correct prediction\n",
        "prediction=tf.equal(tf.argmax(layer_5,1),tf.argmax(Y,1))\n",
        "#accuracy how many it is telling correctly\n",
        "accuracy = tf.reduce_mean(tf.cast(prediction,tf.float32))"
      ],
      "execution_count": 0,
      "outputs": []
    },
    {
      "metadata": {
        "id": "zm03v1n6qWog",
        "colab_type": "code",
        "colab": {}
      },
      "cell_type": "code",
      "source": [
        "init=tf.global_variables_initializer()\n",
        "sess = tf.Session()\n",
        "sess.run(init)"
      ],
      "execution_count": 0,
      "outputs": []
    },
    {
      "metadata": {
        "id": "Uij0mxyUvyjj",
        "colab_type": "code",
        "outputId": "582a3022-bcef-45a2-d05b-5fb759c1558e",
        "colab": {
          "base_uri": "https://localhost:8080/",
          "height": 701
        }
      },
      "cell_type": "code",
      "source": [
        "import matplotlib.pyplot as plt\n",
        "costlist=[]\n",
        "for i in range(2000):\n",
        "  batch_x,batch_y=mnist.train.next_batch(batch_size)\n",
        "  sess.run(train_step,feed_dict={X:batch_x,Y:batch_y,keep_prob:dropout,step:i})\n",
        "  if i%100==0:\n",
        "    minibatch_loss,minbatch_accuracy=sess.run([cost,accuracy],feed_dict={X:batch_x,Y:batch_y,keep_prob:1.0})\n",
        "    print(\"iteration\",str(i),\"\\t LOSS=\",str(minibatch_loss),\"\\tAccuracy =\",str(minbatch_accuracy))\n",
        "    costlist.append(minibatch_loss)\n",
        "num=[]\n",
        "for j in range(20):\n",
        "  num.append(j)\n",
        "plt.plot(num,costlist)\n",
        "plt.ylabel('cost')\n",
        "plt.xlabel('iterations')\n",
        "plt.show()"
      ],
      "execution_count": 15,
      "outputs": [
        {
          "output_type": "stream",
          "text": [
            "iteration 0 \t LOSS= 2.0643783 \tAccuracy = 0.1875\n",
            "iteration 100 \t LOSS= 0.2757271 \tAccuracy = 0.875\n",
            "iteration 200 \t LOSS= 0.17195019 \tAccuracy = 0.9375\n",
            "iteration 300 \t LOSS= 0.044007234 \tAccuracy = 0.984375\n",
            "iteration 400 \t LOSS= 0.114975944 \tAccuracy = 0.953125\n",
            "iteration 500 \t LOSS= 0.093463145 \tAccuracy = 0.96875\n",
            "iteration 600 \t LOSS= 0.18644445 \tAccuracy = 0.96875\n",
            "iteration 700 \t LOSS= 0.14365338 \tAccuracy = 0.96875\n",
            "iteration 800 \t LOSS= 0.020040136 \tAccuracy = 1.0\n",
            "iteration 900 \t LOSS= 0.09137978 \tAccuracy = 0.96875\n",
            "iteration 1000 \t LOSS= 0.01348208 \tAccuracy = 1.0\n",
            "iteration 1100 \t LOSS= 0.023629023 \tAccuracy = 1.0\n",
            "iteration 1200 \t LOSS= 0.00881894 \tAccuracy = 1.0\n",
            "iteration 1300 \t LOSS= 0.0184716 \tAccuracy = 1.0\n",
            "iteration 1400 \t LOSS= 0.06774433 \tAccuracy = 0.984375\n",
            "iteration 1500 \t LOSS= 0.042385533 \tAccuracy = 0.984375\n",
            "iteration 1600 \t LOSS= 0.011496879 \tAccuracy = 1.0\n",
            "iteration 1700 \t LOSS= 0.05685875 \tAccuracy = 0.984375\n",
            "iteration 1800 \t LOSS= 0.0028788499 \tAccuracy = 1.0\n",
            "iteration 1900 \t LOSS= 0.0052626156 \tAccuracy = 1.0\n"
          ],
          "name": "stdout"
        },
        {
          "output_type": "display_data",
          "data": {
            "image/png": "[encoded data removed]",
            "text/plain": [
              "<matplotlib.figure.Figure at 0x7f2e97adf588>"
            ]
          },
          "metadata": {
            "tags": []
          }
        }
      ]
    },
    {
      "metadata": {
        "id": "YIORGWymxNsK",
        "colab_type": "code",
        "colab": {}
      },
      "cell_type": "code",
      "source": [
        "import numpy as np \n",
        "#prediction1 = sess.runtf.argmax(layer_5,1), feed_dict={X: img})\n",
        "predict=tf.equal(tf.argmax(layer_5,1),tf.argmax(Y,1))\n",
        "accuracy = tf.reduce_mean(tf.cast(predict,tf.float32))\n"
      ],
      "execution_count": 0,
      "outputs": []
    },
    {
      "metadata": {
        "id": "x9QvrQfzcQFg",
        "colab_type": "code",
        "outputId": "ce379642-5ec5-4235-dabe-8ba0ce5d49a0",
        "colab": {
          "base_uri": "https://localhost:8080/",
          "height": 34
        }
      },
      "cell_type": "code",
      "source": [
        "import matplotlib.pyplot as plt\n",
        "import scipy\n",
        "from PIL import Image\n",
        "from scipy import ndimage\n",
        "#img = np.invert(Image.open(\"img_20181230_153400__5r8Db.jpg\").convert('L')).ravel()\n",
        "#my_image = \"img_20181230_153400__5r8Db.jpg\"\n",
        "#fname = my_image\n",
        "#image = np.array(ndimage.imread(fname, flatten=False))\n",
        "#my_image = scipy.misc.imresize(image, size=(28,28)).reshape((1, 64 * 64 * 3)).T\n",
        "#my_image_prediction = predict(my_image, parameters)\n",
        "#plt.imshow(image)\n",
        "\n",
        "#plt.show(img)\n",
        "  #batch_x,batch_y=mnist.test.next_batch(batch_size)\n",
        "img1=mnist.test.images\n",
        "  #plt.imshow(img1.reshape(28,28),cmap='Greys')\n",
        "  #img=np.reshape(img1,(1,784))\n",
        "  #print(prediction1,end='')\n",
        "  #test_pred=sess.run(accuracy)\n",
        "    #accu=sess.run(accuracy,feed_dict={X:batch_x,Y:batch_y})\n",
        "accu=sess.run(accuracy,feed_dict={X:img1,Y:mnist.test.labels})\n",
        "    #print(\"number \",i,end='')\n",
        "print(str(accu))\n",
        "\n",
        "  #print(np.squeeze(prediction1),end='')\n",
        "\n",
        "  "
      ],
      "execution_count": 17,
      "outputs": [
        {
          "output_type": "stream",
          "text": [
            "0.9767\n"
          ],
          "name": "stdout"
        }
      ]
    },
    {
      "metadata": {
        "id": "uiQv8QmqK1gL",
        "colab_type": "text"
      },
      "cell_type": "markdown",
      "source": [
        "#one-hot encoding images data set\n",
        "mnist.train.labels[0:10]\n"
      ]
    },
    {
      "metadata": {
        "id": "EXVmycQko-ii",
        "colab_type": "code",
        "outputId": "9531335f-dbb5-4556-e1e8-8df5071952d6",
        "colab": {
          "base_uri": "https://localhost:8080/",
          "height": 34
        }
      },
      "cell_type": "code",
      "source": [
        "#converting the one-hot encoding into the single numbers \n",
        "dataarr=np.array([data.argmax() for data in mnist.test.labels])\n",
        "dataarr[0:10]"
      ],
      "execution_count": 18,
      "outputs": [
        {
          "output_type": "execute_result",
          "data": {
            "text/plain": [
              "array([7, 2, 1, 0, 4, 1, 4, 9, 5, 9])"
            ]
          },
          "metadata": {
            "tags": []
          },
          "execution_count": 18
        }
      ]
    },
    {
      "metadata": {
        "id": "Q7nRD64lo--D",
        "colab_type": "code",
        "outputId": "8597a7ff-4d94-4a16-9f4c-6885c464d6ad",
        "colab": {
          "base_uri": "https://localhost:8080/",
          "height": 452
        }
      },
      "cell_type": "code",
      "source": [
        "img = np.invert(Image.open(\"IMG_20190101_171859.jpeg\").convert('L')).ravel()\n",
        "my_image = \"IMG_20190101_171859.jpeg\"\n",
        "fname = my_image\n",
        "image = np.array(ndimage.imread(fname, flatten=False))\n",
        "#my_image = scipy.misc.imresize(image, size=(28,28)).reshape((1, 64 * 64 * 3)).T\n",
        "#my_image_prediction = predict(my_image, parameters)\n",
        "plt.imshow(image)\n",
        "#plt.show(img)\n",
        "prediction1 = sess.run(tf.argmax(layer_5,1), feed_dict={X: [img]})\n",
        "print(\"prediction\",np.squeeze(prediction1))"
      ],
      "execution_count": 20,
      "outputs": [
        {
          "output_type": "stream",
          "text": [
            "prediction 7\n"
          ],
          "name": "stdout"
        },
        {
          "output_type": "stream",
          "text": [
            "/usr/local/lib/python3.6/dist-packages/ipykernel_launcher.py:4: DeprecationWarning: `imread` is deprecated!\n",
            "`imread` is deprecated in SciPy 1.0.0.\n",
            "Use ``matplotlib.pyplot.imread`` instead.\n",
            "  after removing the cwd from sys.path.\n"
          ],
          "name": "stderr"
        },
        {
          "output_type": "display_data",
          "data": {
            "image/png": "[encoded data removed]",
            "text/plain": [
              "<matplotlib.figure.Figure at 0x7f2e97adf438>"
            ]
          },
          "metadata": {
            "tags": []
          }
        }
      ]
    },
    {
      "metadata": {
        "id": "-c30poZ_MRmG",
        "colab_type": "code",
        "colab": {}
      },
      "cell_type": "code",
      "source": [
        ""
      ],
      "execution_count": 0,
      "outputs": []
    },
    {
      "metadata": {
        "id": "FpJJ6wioT8nN",
        "colab_type": "code",
        "colab": {}
      },
      "cell_type": "code",
      "source": [
        ""
      ],
      "execution_count": 0,
      "outputs": []
    }
  ]
}
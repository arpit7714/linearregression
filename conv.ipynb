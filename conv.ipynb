{
  "nbformat": 4,
  "nbformat_minor": 0,
  "metadata": {
    "colab": {
      "name": "conv.ipynb",
      "version": "0.3.2",
      "provenance": [],
      "collapsed_sections": []
    },
    "kernelspec": {
      "name": "python3",
      "display_name": "Python 3"
    }
  },
  "cells": [
    {
      "metadata": {
        "id": "mE09uTADAXOJ",
        "colab_type": "code",
        "outputId": "cfff64d0-c895-47d7-f462-6a56b833b180",
        "colab": {
          "base_uri": "https://localhost:8080/",
          "height": 530
        }
      },
      "cell_type": "code",
      "source": [
        "\n",
        "import tensorflow as tf\n",
        "#importing mnist data set\n",
        "from tensorflow.examples.tutorials.mnist import input_data\n",
        "mnist = input_data.read_data_sets(\"MNIST_data/\", one_hot=True)"
      ],
      "execution_count": 2,
      "outputs": [
        {
          "output_type": "stream",
          "text": [
            "WARNING:tensorflow:From <ipython-input-2-af81cc9ce4eb>:5: read_data_sets (from tensorflow.contrib.learn.python.learn.datasets.mnist) is deprecated and will be removed in a future version.\n",
            "Instructions for updating:\n",
            "Please use alternatives such as official/mnist/dataset.py from tensorflow/models.\n",
            "WARNING:tensorflow:From /usr/local/lib/python3.6/dist-packages/tensorflow/contrib/learn/python/learn/datasets/mnist.py:260: maybe_download (from tensorflow.contrib.learn.python.learn.datasets.base) is deprecated and will be removed in a future version.\n",
            "Instructions for updating:\n",
            "Please write your own downloading logic.\n",
            "WARNING:tensorflow:From /usr/local/lib/python3.6/dist-packages/tensorflow/contrib/learn/python/learn/datasets/base.py:252: _internal_retry.<locals>.wrap.<locals>.wrapped_fn (from tensorflow.contrib.learn.python.learn.datasets.base) is deprecated and will be removed in a future version.\n",
            "Instructions for updating:\n",
            "Please use urllib or similar directly.\n",
            "Successfully downloaded train-images-idx3-ubyte.gz 9912422 bytes.\n",
            "WARNING:tensorflow:From /usr/local/lib/python3.6/dist-packages/tensorflow/contrib/learn/python/learn/datasets/mnist.py:262: extract_images (from tensorflow.contrib.learn.python.learn.datasets.mnist) is deprecated and will be removed in a future version.\n",
            "Instructions for updating:\n",
            "Please use tf.data to implement this functionality.\n",
            "Extracting MNIST_data/train-images-idx3-ubyte.gz\n",
            "Successfully downloaded train-labels-idx1-ubyte.gz 28881 bytes.\n",
            "WARNING:tensorflow:From /usr/local/lib/python3.6/dist-packages/tensorflow/contrib/learn/python/learn/datasets/mnist.py:267: extract_labels (from tensorflow.contrib.learn.python.learn.datasets.mnist) is deprecated and will be removed in a future version.\n",
            "Instructions for updating:\n",
            "Please use tf.data to implement this functionality.\n",
            "Extracting MNIST_data/train-labels-idx1-ubyte.gz\n",
            "WARNING:tensorflow:From /usr/local/lib/python3.6/dist-packages/tensorflow/contrib/learn/python/learn/datasets/mnist.py:110: dense_to_one_hot (from tensorflow.contrib.learn.python.learn.datasets.mnist) is deprecated and will be removed in a future version.\n",
            "Instructions for updating:\n",
            "Please use tf.one_hot on tensors.\n",
            "Successfully downloaded t10k-images-idx3-ubyte.gz 1648877 bytes.\n",
            "Extracting MNIST_data/t10k-images-idx3-ubyte.gz\n",
            "Successfully downloaded t10k-labels-idx1-ubyte.gz 4542 bytes.\n",
            "Extracting MNIST_data/t10k-labels-idx1-ubyte.gz\n",
            "WARNING:tensorflow:From /usr/local/lib/python3.6/dist-packages/tensorflow/contrib/learn/python/learn/datasets/mnist.py:290: DataSet.__init__ (from tensorflow.contrib.learn.python.learn.datasets.mnist) is deprecated and will be removed in a future version.\n",
            "Instructions for updating:\n",
            "Please use alternatives such as official/mnist/dataset.py from tensorflow/models.\n"
          ],
          "name": "stdout"
        }
      ]
    },
    {
      "metadata": {
        "id": "NkUCt4n4A18k",
        "colab_type": "code",
        "colab": {}
      },
      "cell_type": "code",
      "source": [
        "def weights(shape2):\n",
        "  var= tf.truncated_normal(shape2,stddev=0.1)\n",
        "  return tf.Variable(var)\n",
        "def bias(shape1):\n",
        "  var=tf.constant(0.1,shape=shape1)\n",
        "  return tf.Variable(var)\n",
        "X=tf.placeholder(tf.float32,[None,784],name='X')\n",
        "Y=tf.placeholder(tf.float32,[None,10],name='Y')\n",
        "dropout=0.75\n",
        "keep_prob=tf.placeholder(tf.float32)"
      ],
      "execution_count": 0,
      "outputs": []
    },
    {
      "metadata": {
        "id": "k0krAci8B180",
        "colab_type": "code",
        "colab": {}
      },
      "cell_type": "code",
      "source": [
        "def conv2d(x,W):\n",
        "  return tf.nn.conv2d(x,W,strides=[1,1,1,1],padding='SAME')\n",
        "#ksize = kernel size\n",
        "def pooling(x):\n",
        "  return tf.nn.max_pool(x,ksize=[1,2,2,1],strides=[1,2,2,1],padding='SAME')\n"
      ],
      "execution_count": 0,
      "outputs": []
    },
    {
      "metadata": {
        "id": "VDO9bX6yDMsy",
        "colab_type": "code",
        "colab": {}
      },
      "cell_type": "code",
      "source": [
        "#first convoluion layer\n",
        "#[frame_height,frame_width,number_of_channel,number_of_filter]\n",
        "w1=weights([5,5,1,16])\n",
        "b1=bias([16])\n",
        "\n",
        "#tensorflow conv2d function expects a 4d tensor with dimention corresponds to \n",
        "#batch_size, height,width,no. channel\n",
        "image=tf.reshape(X,[-1,28,28,1])\n",
        "#relu function is used to remove the negative pixel values from the result\n",
        "#------------(not varified bias is added to reflect the some greay color-------------\n",
        "conv1=tf.nn.relu(conv2d(image,w1)+b1)\n",
        "#conv1 dimention ==[-1,28,28,32]\n",
        "pool1=pooling(conv1)\n",
        "#pool1 dimention ==[-1,14,14,32]\n",
        "\n",
        "\n",
        "#second convolution layer\n",
        "w2=weights([5,5,16,36])\n",
        "b2=bias([36])\n",
        "conv2=tf.nn.relu(conv2d(pool1,w2)+b2)\n",
        "#dimentions==[-1,14,14,64]     \n",
        "pool2=pooling(conv2)\n",
        "#dimention==[-1,7,7,64]\n",
        "\n",
        "# fully connected layers\n",
        "#first fully connected layer with 1024 nerons\n",
        "\n",
        "\n",
        "weight_fc1=weights([7*7*36,1024])\n",
        "bias_fc1=bias([1024])\n",
        "\n",
        "pool2_flat=tf.reshape(pool2,[-1,7*7*36])\n",
        "fc1=tf.nn.relu(tf.matmul(pool2_flat,weight_fc1) + bias_fc1)\n",
        "layer_drop=tf.nn.dropout(fc1,keep_prob)\n",
        "\n",
        "#second fully connected layer\n",
        "\n",
        "weight_fc2=weights([1024,10])\n",
        "bias_fc2=bias([10])\n",
        "\n",
        "fc2= tf.matmul(layer_drop,weight_fc2) + bias_fc2\n",
        "#need not to use the softmax function to produce the vector of 10 units\n",
        "#cost will contain that function\n"
      ],
      "execution_count": 0,
      "outputs": []
    },
    {
      "metadata": {
        "id": "2aTbbYMoDZwM",
        "colab_type": "code",
        "colab": {
          "base_uri": "https://localhost:8080/",
          "height": 173
        },
        "outputId": "1a336553-65d5-4a41-98cc-cf603d235e12"
      },
      "cell_type": "code",
      "source": [
        "cost=tf.reduce_mean(tf.nn.softmax_cross_entropy_with_logits(labels=Y,logits=fc2))\n",
        "\n",
        "optimize=tf.train.AdamOptimizer(1e-4).minimize(cost)\n",
        "\n",
        "prediction=tf.equal(tf.argmax(fc2,1) , tf.argmax(Y,1))\n",
        "\n",
        "#tf.cast convert the boolean array into the ones and zeros \n",
        "\n",
        "accuracy=tf.reduce_mean(tf.cast(prediction,tf.float32))\n",
        "\n",
        "predict=tf.equal(tf.argmax(fc2,1),tf.argmax(Y,1)) \n",
        "\n",
        "accu=tf.reduce_mean(tf.cast(predict,tf.float32))\n"
      ],
      "execution_count": 6,
      "outputs": [
        {
          "output_type": "stream",
          "text": [
            "WARNING:tensorflow:From <ipython-input-6-884eee81dc86>:1: softmax_cross_entropy_with_logits (from tensorflow.python.ops.nn_ops) is deprecated and will be removed in a future version.\n",
            "Instructions for updating:\n",
            "\n",
            "Future major versions of TensorFlow will allow gradients to flow\n",
            "into the labels input on backprop by default.\n",
            "\n",
            "See `tf.nn.softmax_cross_entropy_with_logits_v2`.\n",
            "\n"
          ],
          "name": "stdout"
        }
      ]
    },
    {
      "metadata": {
        "id": "_s8qKib7ZAu_",
        "colab_type": "code",
        "outputId": "9a3b5841-8586-404c-dc23-cf0827cd9268",
        "colab": {
          "base_uri": "https://localhost:8080/",
          "height": 1041
        }
      },
      "cell_type": "code",
      "source": [
        "import matplotlib.pyplot as plt\n",
        "sess=tf.Session()\n",
        "sess.run(tf.global_variables_initializer())\n",
        "costlist=[]\n",
        "for i in range(4000):\n",
        "    #batch_size==100\n",
        "    batch_x,batch_y=mnist.train.next_batch(50)\n",
        "    sess.run(optimize,feed_dict={X:batch_x,Y:batch_y,keep_prob:dropout})\n",
        "    if i%100==0:\n",
        "      minibatch_loss,minibatch_accuracy=sess.run([cost,accuracy],feed_dict={X:batch_x,Y:batch_y,keep_prob:1.0})\n",
        "      print(\"iteration\",str(i),\"loss\",minibatch_loss,\" Accuracy\",minibatch_accuracy)\n",
        "      costlist.append(minibatch_loss)    \n",
        "num=[]\n",
        "for j in range(40):\n",
        "  num.append(j)\n",
        "plt.plot(num,costlist)\n",
        "plt.ylabel('cost')\n",
        "plt.xlabel('iterations')\n",
        "plt.show()"
      ],
      "execution_count": 7,
      "outputs": [
        {
          "output_type": "stream",
          "text": [
            "iteration 0 loss 5.9784074  Accuracy 0.14\n",
            "iteration 100 loss 0.6700228  Accuracy 0.76\n",
            "iteration 200 loss 0.38502026  Accuracy 0.88\n",
            "iteration 300 loss 0.2083779  Accuracy 0.96\n",
            "iteration 400 loss 0.19608551  Accuracy 0.98\n",
            "iteration 500 loss 0.28681907  Accuracy 0.92\n",
            "iteration 600 loss 0.33626178  Accuracy 0.88\n",
            "iteration 700 loss 0.12165939  Accuracy 1.0\n",
            "iteration 800 loss 0.12650433  Accuracy 0.94\n",
            "iteration 900 loss 0.25068006  Accuracy 0.92\n",
            "iteration 1000 loss 0.07121873  Accuracy 0.98\n",
            "iteration 1100 loss 0.05888826  Accuracy 0.98\n",
            "iteration 1200 loss 0.039596662  Accuracy 1.0\n",
            "iteration 1300 loss 0.11275922  Accuracy 0.98\n",
            "iteration 1400 loss 0.11891041  Accuracy 0.96\n",
            "iteration 1500 loss 0.07752806  Accuracy 0.98\n",
            "iteration 1600 loss 0.08271964  Accuracy 0.98\n",
            "iteration 1700 loss 0.09647239  Accuracy 0.98\n",
            "iteration 1800 loss 0.038808547  Accuracy 1.0\n",
            "iteration 1900 loss 0.02363852  Accuracy 1.0\n",
            "iteration 2000 loss 0.07729358  Accuracy 0.98\n",
            "iteration 2100 loss 0.11781866  Accuracy 0.96\n",
            "iteration 2200 loss 0.035313528  Accuracy 0.98\n",
            "iteration 2300 loss 0.070859484  Accuracy 0.98\n",
            "iteration 2400 loss 0.012013563  Accuracy 1.0\n",
            "iteration 2500 loss 0.05395277  Accuracy 0.98\n",
            "iteration 2600 loss 0.039238993  Accuracy 1.0\n",
            "iteration 2700 loss 0.030139852  Accuracy 0.98\n",
            "iteration 2800 loss 0.05408365  Accuracy 0.98\n",
            "iteration 2900 loss 0.07998701  Accuracy 0.96\n",
            "iteration 3000 loss 0.07340316  Accuracy 0.98\n",
            "iteration 3100 loss 0.0100349225  Accuracy 1.0\n",
            "iteration 3200 loss 0.013962862  Accuracy 1.0\n",
            "iteration 3300 loss 0.02205027  Accuracy 1.0\n",
            "iteration 3400 loss 0.10945754  Accuracy 0.94\n",
            "iteration 3500 loss 0.031129647  Accuracy 1.0\n",
            "iteration 3600 loss 0.02570548  Accuracy 1.0\n",
            "iteration 3700 loss 0.0069414126  Accuracy 1.0\n",
            "iteration 3800 loss 0.037373222  Accuracy 0.98\n",
            "iteration 3900 loss 0.08479142  Accuracy 0.98\n"
          ],
          "name": "stdout"
        },
        {
          "output_type": "display_data",
          "data": {
            "image/png": "[encoded data removed]",
            "text/plain": [
              "<matplotlib.figure.Figure at 0x7f33321c8748>"
            ]
          },
          "metadata": {
            "tags": []
          }
        }
      ]
    },
    {
      "metadata": {
        "id": "_tQxtkYtH-Qv",
        "colab_type": "code",
        "outputId": "af2bd7a7-6a4b-4820-9433-4dffa9d71558",
        "colab": {
          "base_uri": "https://localhost:8080/",
          "height": 34
        }
      },
      "cell_type": "code",
      "source": [
        "img1=mnist.test.images\n",
        "print(sess.run(accu,feed_dict={X:img1,Y:mnist.test.labels,keep_prob:1.0}))"
      ],
      "execution_count": 8,
      "outputs": [
        {
          "output_type": "stream",
          "text": [
            "0.9843\n"
          ],
          "name": "stdout"
        }
      ]
    },
    {
      "metadata": {
        "id": "VZu9AaRGjeC7",
        "colab_type": "code",
        "colab": {}
      },
      "cell_type": "code",
      "source": [
        "def plot_image(image):\n",
        "    plt.imshow(image.reshape(img_shape),\n",
        "               interpolation='nearest',\n",
        "               cmap='binary')\n",
        "\n",
        "    plt.show()"
      ],
      "execution_count": 0,
      "outputs": []
    },
    {
      "metadata": {
        "id": "1OMeSgxQK4t6",
        "colab_type": "code",
        "outputId": "a01b2e6c-8fda-48e4-9439-9db2d6706d80",
        "colab": {
          "base_uri": "https://localhost:8080/",
          "height": 660
        }
      },
      "cell_type": "code",
      "source": [
        "import numpy as np\n",
        "import scipy\n",
        "from PIL import Image\n",
        "from scipy import ndimage\n",
        "img = np.invert(Image.open(\"IMG_20190103_184147_28x28.jpg\").convert('L')).ravel()\n",
        "#my_image = \"IMG_20190101_171859.jpeg\"\n",
        "#img=mnist.test.images[10]\n",
        "#fname = my_image\n",
        "#image1 = np.array(ndimage.imread(image, flatten=False))\n",
        "#my_image = scipy.misc.imresize(image, size=(28,28)).reshape((1, 64 * 64 * 3)).T\n",
        "#my_image_prediction = predict(my_image, parameters)\n",
        "#plt.imshow(image1)\n",
        "#plt.show(img)\n",
        "prediction1 = sess.run(tf.argmax(fc2,1), feed_dict={X:[img],keep_prob:1.0})\n",
        "print(\"prediction\",np.squeeze(prediction1))\n",
        "plot_conv_layer(layer=pool1, image=img)\n",
        "plot_conv_layer(layer=pool2, image=img)"
      ],
      "execution_count": 29,
      "outputs": [
        {
          "output_type": "stream",
          "text": [
            "prediction 8\n"
          ],
          "name": "stdout"
        },
        {
          "output_type": "display_data",
          "data": {
            "image/png": "[encoded data removed]",
            "text/plain": [
              "<matplotlib.figure.Figure at 0x7f3323c3fc50>"
            ]
          },
          "metadata": {
            "tags": []
          }
        },
        {
          "output_type": "display_data",
          "data": {
            "image/png": "[encoded data removed]",
            "text/plain": [
              "<matplotlib.figure.Figure at 0x7f3324c3dda0>"
            ]
          },
          "metadata": {
            "tags": []
          }
        }
      ]
    },
    {
      "metadata": {
        "id": "_NEWWQwidzEb",
        "colab_type": "code",
        "colab": {}
      },
      "cell_type": "code",
      "source": [
        "import math\n",
        "def plot_conv_layer(layer, image):\n",
        "    # Assume layer is a TensorFlow op that outputs a 4-dim tensor\n",
        "    # which is the output of a convolutional layer,\n",
        "    # e.g. layer_conv1 or layer_conv2.\n",
        "\n",
        "    # Create a feed-dict containing just one image.\n",
        "    # Note that we don't need to feed y_true because it is\n",
        "    # not used in this calculation.\n",
        "    feed_dict = {X: [image]}\n",
        "\n",
        "    # Calculate and retrieve the output values of the layer\n",
        "    # when inputting that image.\n",
        "    values = sess.run(layer, feed_dict=feed_dict)\n",
        "\n",
        "    # Number of filters used in the conv. layer.\n",
        "    num_filters = values.shape[3]\n",
        "\n",
        "    # Number of grids to plot.\n",
        "    # Rounded-up, square-root of the number of filters.\n",
        "    num_grids = math.ceil(math.sqrt(num_filters))\n",
        "    \n",
        "    # Create figure with a grid of sub-plots.\n",
        "    fig, axes = plt.subplots(num_grids, num_grids)\n",
        "\n",
        "    # Plot the output images of all the filters.\n",
        "    for i, ax in enumerate(axes.flat):\n",
        "        # Only plot the images for valid filters.\n",
        "        if i<num_filters:\n",
        "            # Get the output image of using the i'th filter.\n",
        "            # See new_conv_layer() for details on the format\n",
        "            # of this 4-dim tensor.\n",
        "            img = values[0, :, :, i]\n",
        "\n",
        "            # Plot image.\n",
        "            ax.imshow(img, interpolation='nearest', cmap='binary')\n",
        "        \n",
        "        # Remove ticks from the plot.\n",
        "        ax.set_xticks([])\n",
        "        ax.set_yticks([])\n",
        "    \n",
        "    # Ensure the plot is shown correctly with multiple plots\n",
        "    # in a single Notebook cell.\n",
        "    plt.show()"
      ],
      "execution_count": 0,
      "outputs": []
    },
    {
      "metadata": {
        "id": "Y7sZh8pEiYXM",
        "colab_type": "code",
        "colab": {}
      },
      "cell_type": "code",
      "source": [
        "\n"
      ],
      "execution_count": 0,
      "outputs": []
    }
  ]
}
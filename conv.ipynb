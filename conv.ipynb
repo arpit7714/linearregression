{
  "nbformat": 4,
  "nbformat_minor": 0,
  "metadata": {
    "colab": {
      "name": "conv.ipynb",
      "version": "0.3.2",
      "provenance": [],
      "collapsed_sections": [],
      "include_colab_link": true
    },
    "kernelspec": {
      "name": "python3",
      "display_name": "Python 3"
    }
  },
  "cells": [
    {
      "cell_type": "markdown",
      "metadata": {
        "id": "view-in-github",
        "colab_type": "text"
      },
      "source": [
        "<a href=\"https://colab.research.google.com/github/arpit7714/linearregression/blob/master/conv.ipynb\" target=\"_parent\"><img src=\"https://colab.research.google.com/assets/colab-badge.svg\" alt=\"Open In Colab\"/></a>"
      ]
    },
    {
      "metadata": {
        "id": "mE09uTADAXOJ",
        "colab_type": "code",
        "outputId": "bb7b2877-4c96-4d79-da53-28e2a8058ee7",
        "colab": {
          "base_uri": "https://localhost:8080/",
          "height": 530
        }
      },
      "cell_type": "code",
      "source": [
        "\n",
        "import tensorflow as tf\n",
        "#importing mnist data set\n",
        "from tensorflow.examples.tutorials.mnist import input_data\n",
        "mnist = input_data.read_data_sets(\"MNIST_data/\", one_hot=True)"
      ],
      "execution_count": 0,
      "outputs": [
        {
          "output_type": "stream",
          "text": [
            "WARNING:tensorflow:From <ipython-input-1-af81cc9ce4eb>:5: read_data_sets (from tensorflow.contrib.learn.python.learn.datasets.mnist) is deprecated and will be removed in a future version.\n",
            "Instructions for updating:\n",
            "Please use alternatives such as official/mnist/dataset.py from tensorflow/models.\n",
            "WARNING:tensorflow:From /usr/local/lib/python3.6/dist-packages/tensorflow/contrib/learn/python/learn/datasets/mnist.py:260: maybe_download (from tensorflow.contrib.learn.python.learn.datasets.base) is deprecated and will be removed in a future version.\n",
            "Instructions for updating:\n",
            "Please write your own downloading logic.\n",
            "WARNING:tensorflow:From /usr/local/lib/python3.6/dist-packages/tensorflow/contrib/learn/python/learn/datasets/base.py:252: _internal_retry.<locals>.wrap.<locals>.wrapped_fn (from tensorflow.contrib.learn.python.learn.datasets.base) is deprecated and will be removed in a future version.\n",
            "Instructions for updating:\n",
            "Please use urllib or similar directly.\n",
            "Successfully downloaded train-images-idx3-ubyte.gz 9912422 bytes.\n",
            "WARNING:tensorflow:From /usr/local/lib/python3.6/dist-packages/tensorflow/contrib/learn/python/learn/datasets/mnist.py:262: extract_images (from tensorflow.contrib.learn.python.learn.datasets.mnist) is deprecated and will be removed in a future version.\n",
            "Instructions for updating:\n",
            "Please use tf.data to implement this functionality.\n",
            "Extracting MNIST_data/train-images-idx3-ubyte.gz\n",
            "Successfully downloaded train-labels-idx1-ubyte.gz 28881 bytes.\n",
            "WARNING:tensorflow:From /usr/local/lib/python3.6/dist-packages/tensorflow/contrib/learn/python/learn/datasets/mnist.py:267: extract_labels (from tensorflow.contrib.learn.python.learn.datasets.mnist) is deprecated and will be removed in a future version.\n",
            "Instructions for updating:\n",
            "Please use tf.data to implement this functionality.\n",
            "Extracting MNIST_data/train-labels-idx1-ubyte.gz\n",
            "WARNING:tensorflow:From /usr/local/lib/python3.6/dist-packages/tensorflow/contrib/learn/python/learn/datasets/mnist.py:110: dense_to_one_hot (from tensorflow.contrib.learn.python.learn.datasets.mnist) is deprecated and will be removed in a future version.\n",
            "Instructions for updating:\n",
            "Please use tf.one_hot on tensors.\n",
            "Successfully downloaded t10k-images-idx3-ubyte.gz 1648877 bytes.\n",
            "Extracting MNIST_data/t10k-images-idx3-ubyte.gz\n",
            "Successfully downloaded t10k-labels-idx1-ubyte.gz 4542 bytes.\n",
            "Extracting MNIST_data/t10k-labels-idx1-ubyte.gz\n",
            "WARNING:tensorflow:From /usr/local/lib/python3.6/dist-packages/tensorflow/contrib/learn/python/learn/datasets/mnist.py:290: DataSet.__init__ (from tensorflow.contrib.learn.python.learn.datasets.mnist) is deprecated and will be removed in a future version.\n",
            "Instructions for updating:\n",
            "Please use alternatives such as official/mnist/dataset.py from tensorflow/models.\n"
          ],
          "name": "stdout"
        }
      ]
    },
    {
      "metadata": {
        "id": "NkUCt4n4A18k",
        "colab_type": "code",
        "colab": {}
      },
      "cell_type": "code",
      "source": [
        "def weights(shape2):\n",
        "  var= tf.truncated_normal(shape2,stddev=0.1)\n",
        "  return tf.Variable(var)\n",
        "def bias(shape1):\n",
        "  var=tf.constant(0.1,shape=shape1)\n",
        "  return tf.Variable(var)\n",
        "X=tf.placeholder(tf.float32,[None,784])\n",
        "Y=tf.placeholder(tf.float32,[None,10])\n",
        "dropout=0.75\n",
        "keep_prob=tf.placeholder(tf.float32)"
      ],
      "execution_count": 0,
      "outputs": []
    },
    {
      "metadata": {
        "id": "k0krAci8B180",
        "colab_type": "code",
        "colab": {}
      },
      "cell_type": "code",
      "source": [
        "def conv2d(x,W):\n",
        "  return tf.nn.conv2d(x,W,strides=[1,1,1,1],padding='SAME')\n",
        "#ksize = kernel size\n",
        "def pooling(x):\n",
        "  return tf.nn.max_pool(x,ksize=[1,2,2,1],strides=[1,2,2,1],padding='SAME')\n"
      ],
      "execution_count": 0,
      "outputs": []
    },
    {
      "metadata": {
        "id": "VDO9bX6yDMsy",
        "colab_type": "code",
        "colab": {}
      },
      "cell_type": "code",
      "source": [
        "#first convoluion layer\n",
        "#[frame_height,frame_width,number_of_channel,number_of_filter]\n",
        "w1=weights([5,5,1,32])\n",
        "b1=bias([32])\n",
        "\n",
        "#tensorflow conv2d function expects a 4d tensor with dimention corresponds to \n",
        "#batch_size, height,width,no. channel\n",
        "image=tf.reshape(X,[-1,28,28,1])\n",
        "#relu function is used to remove the negative pixel values from the result\n",
        "#------------(not varified bias is added to reflect the some greay color-------------\n",
        "conv1=tf.nn.relu(conv2d(image,w1)+b1)\n",
        "#conv1 dimention ==[-1,28,28,32]\n",
        "pool1=pooling(conv1)\n",
        "#pool1 dimention ==[-1,14,14,32]\n",
        "\n",
        "\n",
        "#second convolution layer\n",
        "w2=weights([5,5,32,64])\n",
        "b2=bias([64])\n",
        "conv2=tf.nn.relu(conv2d(pool1,w2)+b2)\n",
        "#dimentions==[-1,14,14,64]     \n",
        "pool2=pooling(conv2)\n",
        "#dimention==[-1,7,7,64]\n",
        "\n",
        "# fully connected layers\n",
        "#first fully connected layer with 1024 nerons\n",
        "weight_fc1=weights([7*7*64,1024])\n",
        "bias_fc1=bias([1024])\n",
        "\n",
        "pool2_flat=tf.reshape(pool2,[-1,7*7*64])\n",
        "fc1=tf.nn.relu(tf.matmul(pool2_flat,weight_fc1) + bias_fc1)\n",
        "layer_drop=tf.nn.dropout(fc1,keep_prob)\n",
        "\n",
        "#second fully connected layer\n",
        "\n",
        "weight_fc2=weights([1024,10])\n",
        "bias_fc2=bias([10])\n",
        "\n",
        "fc2= tf.matmul(layer_drop,weight_fc2) + bias_fc2\n",
        "#need not to use the softmax function to produce the vector of 10 units\n",
        "#cost will contain that function\n"
      ],
      "execution_count": 0,
      "outputs": []
    },
    {
      "metadata": {
        "id": "2aTbbYMoDZwM",
        "colab_type": "code",
        "outputId": "62288760-c08c-4e1a-a12f-4ac7d40ff937",
        "colab": {
          "base_uri": "https://localhost:8080/",
          "height": 173
        }
      },
      "cell_type": "code",
      "source": [
        "cost=tf.reduce_mean(tf.nn.softmax_cross_entropy_with_logits(labels=Y,logits=fc2))\n",
        "\n",
        "optimize=tf.train.AdamOptimizer(1e-4).minimize(cost)\n",
        "\n",
        "prediction=tf.equal(tf.argmax(fc2,1) , tf.argmax(Y,1))\n",
        "\n",
        "#tf.cast convert the boolean array into the ones and zeros \n",
        "\n",
        "accuracy=tf.reduce_mean(tf.cast(prediction,tf.float32))\n",
        "\n",
        "predict=tf.equal(tf.argmax(fc2,1),tf.argmax(Y,1)) \n",
        "\n",
        "accu=tf.reduce_mean(tf.cast(predict,tf.float32))\n"
      ],
      "execution_count": 0,
      "outputs": [
        {
          "output_type": "stream",
          "text": [
            "WARNING:tensorflow:From <ipython-input-5-884eee81dc86>:1: softmax_cross_entropy_with_logits (from tensorflow.python.ops.nn_ops) is deprecated and will be removed in a future version.\n",
            "Instructions for updating:\n",
            "\n",
            "Future major versions of TensorFlow will allow gradients to flow\n",
            "into the labels input on backprop by default.\n",
            "\n",
            "See `tf.nn.softmax_cross_entropy_with_logits_v2`.\n",
            "\n"
          ],
          "name": "stdout"
        }
      ]
    },
    {
      "metadata": {
        "id": "_s8qKib7ZAu_",
        "colab_type": "code",
        "outputId": "4a513c06-da29-46df-fdb2-3b589fec6616",
        "colab": {
          "base_uri": "https://localhost:8080/",
          "height": 701
        }
      },
      "cell_type": "code",
      "source": [
        "import matplotlib.pyplot as plt\n",
        "sess=tf.Session()\n",
        "sess.run(tf.global_variables_initializer())\n",
        "costlist=[]\n",
        "for i in range(2000):\n",
        "    #batch_size==100\n",
        "    batch_x,batch_y=mnist.train.next_batch(50)\n",
        "    sess.run(optimize,feed_dict={X:batch_x,Y:batch_y,keep_prob:dropout})\n",
        "    if i%100==0:\n",
        "      minibatch_loss,minibatch_accuracy=sess.run([cost,accuracy],feed_dict={X:batch_x,Y:batch_y,keep_prob:1.0})\n",
        "      print(\"iteration\",str(i),\"loss\",minibatch_loss,\" Accuracy\",minibatch_accuracy)\n",
        "      costlist.append(minibatch_loss)    \n",
        "num=[]\n",
        "for j in range(20):\n",
        "  num.append(j)\n",
        "plt.plot(num,costlist)\n",
        "plt.ylabel('cost')\n",
        "plt.xlabel('iterations')\n",
        "plt.show()"
      ],
      "execution_count": 0,
      "outputs": [
        {
          "output_type": "stream",
          "text": [
            "iteration 0 loss 8.739628  Accuracy 0.06\n",
            "iteration 100 loss 0.46177724  Accuracy 0.84\n",
            "iteration 200 loss 0.39799  Accuracy 0.9\n",
            "iteration 300 loss 0.28570685  Accuracy 0.88\n",
            "iteration 400 loss 0.16542798  Accuracy 0.94\n",
            "iteration 500 loss 0.21562175  Accuracy 0.96\n",
            "iteration 600 loss 0.10143356  Accuracy 0.98\n",
            "iteration 700 loss 0.13867007  Accuracy 0.94\n",
            "iteration 800 loss 0.097212724  Accuracy 0.98\n",
            "iteration 900 loss 0.045243762  Accuracy 0.98\n",
            "iteration 1000 loss 0.041882083  Accuracy 1.0\n",
            "iteration 1100 loss 0.11635913  Accuracy 0.96\n",
            "iteration 1200 loss 0.06042923  Accuracy 1.0\n",
            "iteration 1300 loss 0.061987523  Accuracy 0.98\n",
            "iteration 1400 loss 0.07336662  Accuracy 0.98\n",
            "iteration 1500 loss 0.029267693  Accuracy 0.98\n",
            "iteration 1600 loss 0.072741225  Accuracy 0.96\n",
            "iteration 1700 loss 0.09552993  Accuracy 0.98\n",
            "iteration 1800 loss 0.032404963  Accuracy 1.0\n",
            "iteration 1900 loss 0.15393448  Accuracy 0.96\n"
          ],
          "name": "stdout"
        },
        {
          "output_type": "display_data",
          "data": {
            "image/png": "[encoded data removed]",
            "text/plain": [
              "<matplotlib.figure.Figure at 0x7f33a05dcb00>"
            ]
          },
          "metadata": {
            "tags": []
          }
        }
      ]
    },
    {
      "metadata": {
        "id": "_tQxtkYtH-Qv",
        "colab_type": "code",
        "outputId": "81ef88e4-0715-45e0-cdbd-4f2894d86c47",
        "colab": {
          "base_uri": "https://localhost:8080/",
          "height": 34
        }
      },
      "cell_type": "code",
      "source": [
        "img1=mnist.test.images\n",
        "print(sess.run(accu,feed_dict={X:img1,Y:mnist.test.labels,keep_prob:1.0}))"
      ],
      "execution_count": 0,
      "outputs": [
        {
          "output_type": "stream",
          "text": [
            "0.9777\n"
          ],
          "name": "stdout"
        }
      ]
    },
    {
      "metadata": {
        "id": "1OMeSgxQK4t6",
        "colab_type": "code",
        "colab": {
          "base_uri": "https://localhost:8080/",
          "height": 452
        },
        "outputId": "7bffe426-534f-4ad2-a7d7-2af608d27c0e"
      },
      "cell_type": "code",
      "source": [
        "import numpy as np\n",
        "import scipy\n",
        "from PIL import Image\n",
        "from scipy import ndimage\n",
        "img = np.invert(Image.open(\"IMG_20190101_171859.jpeg\").convert('L')).ravel()\n",
        "my_image = \"IMG_20190101_171859.jpeg\"\n",
        "fname = my_image\n",
        "image = np.array(ndimage.imread(fname, flatten=False))\n",
        "#my_image = scipy.misc.imresize(image, size=(28,28)).reshape((1, 64 * 64 * 3)).T\n",
        "#my_image_prediction = predict(my_image, parameters)\n",
        "plt.imshow(image)\n",
        "#plt.show(img)\n",
        "prediction1 = sess.run(tf.argmax(fc2,1), feed_dict={X:[img],keep_prob:1.0})\n",
        "print(\"prediction\",np.squeeze(prediction1))"
      ],
      "execution_count": 15,
      "outputs": [
        {
          "output_type": "stream",
          "text": [
            "prediction 7\n"
          ],
          "name": "stdout"
        },
        {
          "output_type": "stream",
          "text": [
            "/usr/local/lib/python3.6/dist-packages/ipykernel_launcher.py:8: DeprecationWarning: `imread` is deprecated!\n",
            "`imread` is deprecated in SciPy 1.0.0.\n",
            "Use ``matplotlib.pyplot.imread`` instead.\n",
            "  \n"
          ],
          "name": "stderr"
        },
        {
          "output_type": "display_data",
          "data": {
            "image/png": "[encoded data removed]",
            "text/plain": [
              "<matplotlib.figure.Figure at 0x7f339a993eb8>"
            ]
          },
          "metadata": {
            "tags": []
          }
        }
      ]
    },
    {
      "metadata": {
        "id": "_NEWWQwidzEb",
        "colab_type": "code",
        "colab": {}
      },
      "cell_type": "code",
      "source": [
        ""
      ],
      "execution_count": 0,
      "outputs": []
    }
  ]
}
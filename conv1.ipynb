{
  "nbformat": 4,
  "nbformat_minor": 0,
  "metadata": {
    "colab": {
      "name": "conv.ipynb",
      "version": "0.3.2",
      "provenance": [],
      "collapsed_sections": []
    },
    "kernelspec": {
      "name": "python3",
      "display_name": "Python 3"
    }
  },
  "cells": [
    {
      "metadata": {
        "id": "mE09uTADAXOJ",
        "colab_type": "code",
        "outputId": "e3c2263c-b46a-4983-d0fd-80622f183225",
        "colab": {
          "base_uri": "https://localhost:8080/",
          "height": 411
        }
      },
      "cell_type": "code",
      "source": [
        "\n",
        "import tensorflow as tf\n",
        "#importing mnist data set\n",
        "from tensorflow.examples.tutorials.mnist import input_data\n",
        "mnist = input_data.read_data_sets(\"MNIST_data/\", one_hot=True)"
      ],
      "execution_count": 1,
      "outputs": [
        {
          "output_type": "stream",
          "text": [
            "WARNING:tensorflow:From <ipython-input-1-af81cc9ce4eb>:5: read_data_sets (from tensorflow.contrib.learn.python.learn.datasets.mnist) is deprecated and will be removed in a future version.\n",
            "Instructions for updating:\n",
            "Please use alternatives such as official/mnist/dataset.py from tensorflow/models.\n",
            "WARNING:tensorflow:From /usr/local/lib/python3.6/dist-packages/tensorflow/contrib/learn/python/learn/datasets/mnist.py:260: maybe_download (from tensorflow.contrib.learn.python.learn.datasets.base) is deprecated and will be removed in a future version.\n",
            "Instructions for updating:\n",
            "Please write your own downloading logic.\n",
            "WARNING:tensorflow:From /usr/local/lib/python3.6/dist-packages/tensorflow/contrib/learn/python/learn/datasets/mnist.py:262: extract_images (from tensorflow.contrib.learn.python.learn.datasets.mnist) is deprecated and will be removed in a future version.\n",
            "Instructions for updating:\n",
            "Please use tf.data to implement this functionality.\n",
            "Extracting MNIST_data/train-images-idx3-ubyte.gz\n",
            "WARNING:tensorflow:From /usr/local/lib/python3.6/dist-packages/tensorflow/contrib/learn/python/learn/datasets/mnist.py:267: extract_labels (from tensorflow.contrib.learn.python.learn.datasets.mnist) is deprecated and will be removed in a future version.\n",
            "Instructions for updating:\n",
            "Please use tf.data to implement this functionality.\n",
            "Extracting MNIST_data/train-labels-idx1-ubyte.gz\n",
            "WARNING:tensorflow:From /usr/local/lib/python3.6/dist-packages/tensorflow/contrib/learn/python/learn/datasets/mnist.py:110: dense_to_one_hot (from tensorflow.contrib.learn.python.learn.datasets.mnist) is deprecated and will be removed in a future version.\n",
            "Instructions for updating:\n",
            "Please use tf.one_hot on tensors.\n",
            "Extracting MNIST_data/t10k-images-idx3-ubyte.gz\n",
            "Extracting MNIST_data/t10k-labels-idx1-ubyte.gz\n",
            "WARNING:tensorflow:From /usr/local/lib/python3.6/dist-packages/tensorflow/contrib/learn/python/learn/datasets/mnist.py:290: DataSet.__init__ (from tensorflow.contrib.learn.python.learn.datasets.mnist) is deprecated and will be removed in a future version.\n",
            "Instructions for updating:\n",
            "Please use alternatives such as official/mnist/dataset.py from tensorflow/models.\n"
          ],
          "name": "stdout"
        }
      ]
    },
    {
      "metadata": {
        "id": "NkUCt4n4A18k",
        "colab_type": "code",
        "colab": {}
      },
      "cell_type": "code",
      "source": [
        "def weights(shape2):\n",
        "  var= tf.truncated_normal(shape2,stddev=0.1)\n",
        "  return tf.Variable(var)\n",
        "def bias(shape1):\n",
        "  var=tf.constant(0.1,shape=shape1)\n",
        "  return tf.Variable(var)\n",
        "X=tf.placeholder(tf.float32,[None,784],name='X')\n",
        "Y=tf.placeholder(tf.float32,[None,10],name='Y')\n",
        "dropout=0.75\n",
        "keep_prob=tf.placeholder(tf.float32)"
      ],
      "execution_count": 0,
      "outputs": []
    },
    {
      "metadata": {
        "id": "k0krAci8B180",
        "colab_type": "code",
        "colab": {}
      },
      "cell_type": "code",
      "source": [
        "def conv2d(x,W):\n",
        "  return tf.nn.conv2d(x,W,strides=[1,1,1,1],padding='SAME')\n",
        "#ksize = kernel size\n",
        "def pooling(x):\n",
        "  return tf.nn.max_pool(x,ksize=[1,2,2,1],strides=[1,2,2,1],padding='SAME')\n"
      ],
      "execution_count": 0,
      "outputs": []
    },
    {
      "metadata": {
        "id": "VDO9bX6yDMsy",
        "colab_type": "code",
        "colab": {}
      },
      "cell_type": "code",
      "source": [
        "#first convoluion layer\n",
        "#[frame_height,frame_width,number_of_channel,number_of_filter]\n",
        "w1=weights([5,5,1,16])\n",
        "b1=bias([16])\n",
        "\n",
        "#tensorflow conv2d function expects a 4d tensor with dimention corresponds to \n",
        "#batch_size, height,width,no. channel\n",
        "image=tf.reshape(X,[-1,28,28,1])\n",
        "#relu function is used to remove the negative pixel values from the result\n",
        "#------------(not varified bias is added to reflect the some greay color-------------\n",
        "conv1=tf.nn.relu(conv2d(image,w1)+b1)\n",
        "#conv1 dimention ==[-1,28,28,32]\n",
        "pool1=pooling(conv1)\n",
        "#pool1 dimention ==[-1,14,14,32]\n",
        "\n",
        "\n",
        "#second convolution layer\n",
        "w2=weights([5,5,16,36])\n",
        "b2=bias([36])\n",
        "conv2=tf.nn.relu(conv2d(pool1,w2)+b2)\n",
        "#dimentions==[-1,14,14,64]     \n",
        "pool2=pooling(conv2)\n",
        "#dimention==[-1,7,7,64]\n",
        "\n",
        "# fully connected layers\n",
        "#first fully connected layer with 1024 nerons\n",
        "\n",
        "\n",
        "weight_fc1=weights([7*7*36,1024])\n",
        "bias_fc1=bias([1024])\n",
        "\n",
        "pool2_flat=tf.reshape(pool2,[-1,7*7*36])\n",
        "fc1=tf.nn.relu(tf.matmul(pool2_flat,weight_fc1) + bias_fc1)\n",
        "layer_drop=tf.nn.dropout(fc1,keep_prob)\n",
        "\n",
        "#second fully connected layer\n",
        "\n",
        "weight_fc2=weights([1024,10])\n",
        "bias_fc2=bias([10])\n",
        "\n",
        "fc2= tf.matmul(layer_drop,weight_fc2) + bias_fc2\n",
        "#need not to use the softmax function to produce the vector of 10 units\n",
        "#cost will contain that function\n"
      ],
      "execution_count": 0,
      "outputs": []
    },
    {
      "metadata": {
        "id": "2aTbbYMoDZwM",
        "colab_type": "code",
        "outputId": "4eceb8ba-9dd8-46a5-b056-6b68d170df50",
        "colab": {
          "base_uri": "https://localhost:8080/",
          "height": 173
        }
      },
      "cell_type": "code",
      "source": [
        "cost=tf.reduce_mean(tf.nn.softmax_cross_entropy_with_logits(labels=Y,logits=fc2))\n",
        "\n",
        "optimize=tf.train.AdamOptimizer(1e-4).minimize(cost)\n",
        "\n",
        "prediction=tf.equal(tf.argmax(fc2,1) , tf.argmax(Y,1))\n",
        "\n",
        "#tf.cast convert the boolean array into the ones and zeros \n",
        "\n",
        "accuracy=tf.reduce_mean(tf.cast(prediction,tf.float32))\n",
        "\n",
        "predict=tf.equal(tf.argmax(fc2,1),tf.argmax(Y,1)) \n",
        "\n",
        "accu=tf.reduce_mean(tf.cast(predict,tf.float32))\n"
      ],
      "execution_count": 5,
      "outputs": [
        {
          "output_type": "stream",
          "text": [
            "WARNING:tensorflow:From <ipython-input-5-884eee81dc86>:1: softmax_cross_entropy_with_logits (from tensorflow.python.ops.nn_ops) is deprecated and will be removed in a future version.\n",
            "Instructions for updating:\n",
            "\n",
            "Future major versions of TensorFlow will allow gradients to flow\n",
            "into the labels input on backprop by default.\n",
            "\n",
            "See `tf.nn.softmax_cross_entropy_with_logits_v2`.\n",
            "\n"
          ],
          "name": "stdout"
        }
      ]
    },
    {
      "metadata": {
        "id": "_s8qKib7ZAu_",
        "colab_type": "code",
        "outputId": "0e21a5ce-6740-4dcc-919f-c8faa8fb653f",
        "colab": {
          "base_uri": "https://localhost:8080/",
          "height": 1041
        }
      },
      "cell_type": "code",
      "source": [
        "import matplotlib.pyplot as plt\n",
        "sess=tf.Session()\n",
        "sess.run(tf.global_variables_initializer())\n",
        "costlist=[]\n",
        "for i in range(4000):\n",
        "    #batch_size==100\n",
        "    batch_x,batch_y=mnist.train.next_batch(50)\n",
        "    sess.run(optimize,feed_dict={X:batch_x,Y:batch_y,keep_prob:dropout})\n",
        "    if i%100==0:\n",
        "      minibatch_loss,minibatch_accuracy=sess.run([cost,accuracy],feed_dict={X:batch_x,Y:batch_y,keep_prob:1.0})\n",
        "      print(\"iteration\",str(i),\"loss\",minibatch_loss,\" Accuracy\",minibatch_accuracy)\n",
        "      costlist.append(minibatch_loss)    \n",
        "num=[]\n",
        "for j in range(40):\n",
        "  num.append(j)\n",
        "plt.plot(num,costlist)\n",
        "plt.ylabel('cost')\n",
        "plt.xlabel('iterations')\n",
        "plt.show()"
      ],
      "execution_count": 6,
      "outputs": [
        {
          "output_type": "stream",
          "text": [
            "iteration 0 loss 2.9281278  Accuracy 0.08\n",
            "iteration 100 loss 0.5693134  Accuracy 0.86\n",
            "iteration 200 loss 0.27673978  Accuracy 0.92\n",
            "iteration 300 loss 0.39730006  Accuracy 0.86\n",
            "iteration 400 loss 0.24974968  Accuracy 0.94\n",
            "iteration 500 loss 0.15904927  Accuracy 0.96\n",
            "iteration 600 loss 0.16390243  Accuracy 0.96\n",
            "iteration 700 loss 0.09487878  Accuracy 1.0\n",
            "iteration 800 loss 0.0898698  Accuracy 0.98\n",
            "iteration 900 loss 0.0850579  Accuracy 1.0\n",
            "iteration 1000 loss 0.1272228  Accuracy 0.96\n",
            "iteration 1100 loss 0.0760526  Accuracy 0.98\n",
            "iteration 1200 loss 0.22799705  Accuracy 0.94\n",
            "iteration 1300 loss 0.1127854  Accuracy 0.94\n",
            "iteration 1400 loss 0.080551356  Accuracy 1.0\n",
            "iteration 1500 loss 0.036612283  Accuracy 1.0\n",
            "iteration 1600 loss 0.08108207  Accuracy 0.98\n",
            "iteration 1700 loss 0.25317505  Accuracy 0.94\n",
            "iteration 1800 loss 0.036482297  Accuracy 1.0\n",
            "iteration 1900 loss 0.09716753  Accuracy 0.96\n",
            "iteration 2000 loss 0.029186912  Accuracy 1.0\n",
            "iteration 2100 loss 0.012919978  Accuracy 1.0\n",
            "iteration 2200 loss 0.029055545  Accuracy 1.0\n",
            "iteration 2300 loss 0.054050803  Accuracy 0.98\n",
            "iteration 2400 loss 0.08991777  Accuracy 0.98\n",
            "iteration 2500 loss 0.16651636  Accuracy 0.92\n",
            "iteration 2600 loss 0.13316913  Accuracy 0.96\n",
            "iteration 2700 loss 0.05611582  Accuracy 0.98\n",
            "iteration 2800 loss 0.08952334  Accuracy 0.96\n",
            "iteration 2900 loss 0.037900258  Accuracy 1.0\n",
            "iteration 3000 loss 0.011048179  Accuracy 1.0\n",
            "iteration 3100 loss 0.005433457  Accuracy 1.0\n",
            "iteration 3200 loss 0.087729186  Accuracy 0.96\n",
            "iteration 3300 loss 0.031998582  Accuracy 0.98\n",
            "iteration 3400 loss 0.019711794  Accuracy 1.0\n",
            "iteration 3500 loss 0.024465848  Accuracy 1.0\n",
            "iteration 3600 loss 0.13260175  Accuracy 0.94\n",
            "iteration 3700 loss 0.025973212  Accuracy 1.0\n",
            "iteration 3800 loss 0.049571194  Accuracy 0.98\n",
            "iteration 3900 loss 0.00420472  Accuracy 1.0\n"
          ],
          "name": "stdout"
        },
        {
          "output_type": "display_data",
          "data": {
            "image/png": "[encoded data removed]",
            "text/plain": [
              "<matplotlib.figure.Figure at 0x7f2fd21d27f0>"
            ]
          },
          "metadata": {
            "tags": []
          }
        }
      ]
    },
    {
      "metadata": {
        "id": "_tQxtkYtH-Qv",
        "colab_type": "code",
        "outputId": "e750fb61-b943-45e1-f8d8-14bcf902c2f2",
        "colab": {
          "base_uri": "https://localhost:8080/",
          "height": 34
        }
      },
      "cell_type": "code",
      "source": [
        "img1=mnist.test.images\n",
        "print(sess.run(accu,feed_dict={X:img1,Y:mnist.test.labels,keep_prob:1.0}))"
      ],
      "execution_count": 7,
      "outputs": [
        {
          "output_type": "stream",
          "text": [
            "0.9844\n"
          ],
          "name": "stdout"
        }
      ]
    },
    {
      "metadata": {
        "id": "VZu9AaRGjeC7",
        "colab_type": "code",
        "colab": {}
      },
      "cell_type": "code",
      "source": [
        "def plot_image(image):\n",
        "    plt.imshow(image.reshape(img_shape),\n",
        "               interpolation='nearest',\n",
        "               cmap='binary')\n",
        "\n",
        "    plt.show()"
      ],
      "execution_count": 0,
      "outputs": []
    },
    {
      "metadata": {
        "id": "1OMeSgxQK4t6",
        "colab_type": "code",
        "outputId": "11b866fa-45ee-4b81-9515-2ed85ecfa8e5",
        "colab": {
          "base_uri": "https://localhost:8080/",
          "height": 994
        }
      },
      "cell_type": "code",
      "source": [
        "import numpy as np\n",
        "import scipy\n",
        "from PIL import Image\n",
        "from scipy import ndimage\n",
        "import cv2\n",
        "\n",
        "#img = cv2.imread('IMG_20190103_184147.jpg')\n",
        "\n",
        "img=  cv2.imread('IMG_20190103_184147.jpg')\n",
        "gray_image = cv2.cvtColor(img, cv2.COLOR_BGR2GRAY)\n",
        "my_imag = cv2.resize(gray_image, dsize=(1,784), interpolation=cv2.INTER_CUBIC)\n",
        "#img = Image.open('IMG_20190103_184147.jpg').convert('LA')\n",
        "\n",
        "#img = np.invert(Image.open(\"imgonline-com-ua-resize-cHTDTQ64tC.jpg\").convert('L')).ravel()\n",
        "#my_image = \"IMG_20190101_171859.jpeg\"\n",
        "#img=mnist.test.images[10]\n",
        "#fname = my_image\n",
        "#image = np.array(ndimage.imread('IMG_20190103_184147.jpg', flatten=False))\n",
        "#my_ima = scipy.misc.imresize(image, size=(1,784))\n",
        "my_image=np.reshape(my_imag, (784))\n",
        "#print(my_im.shape)\n",
        "#my_image = my_image.reshape(1,784)\n",
        "plt.imshow(my_imag)\n",
        "#image1 = np.array(ndimage.imread(image, flatten=False))\n",
        "#my_image = scipy.misc.imresize(image, size=(28,28)).reshape((1, 64 * 64 * 3)).T\n",
        "#my_image_prediction = predict(my_image, parameters)\n",
        "#plt.imshow(image1)\n",
        "#plt.show(img)\n",
        "prediction1 = sess.run(tf.argmax(fc2,1), feed_dict={X:[my_image],keep_prob:1.0})\n",
        "print(\"prediction\",np.squeeze(prediction1))\n",
        "plot_conv_layer(layer=pool1, image=my_image)\n",
        "plot_conv_layer(layer=pool2, image=my_image)"
      ],
      "execution_count": 36,
      "outputs": [
        {
          "output_type": "stream",
          "text": [
            "prediction 2\n"
          ],
          "name": "stdout"
        },
        {
          "output_type": "display_data",
          "data": {
            "image/png": "[encoded data removed]",
            "text/plain": [
              "<matplotlib.figure.Figure at 0x7f2fae0fea90>"
            ]
          },
          "metadata": {
            "tags": []
          }
        },
        {
          "output_type": "display_data",
          "data": {
            "image/png": "[encoded data removed]",
            "text/plain": [
              "<matplotlib.figure.Figure at 0x7f2fad95db38>"
            ]
          },
          "metadata": {
            "tags": []
          }
        },
        {
          "output_type": "display_data",
          "data": {
            "image/png": "[encoded data removed]",
            "text/plain": [
              "<matplotlib.figure.Figure at 0x7f2fb691f9e8>"
            ]
          },
          "metadata": {
            "tags": []
          }
        }
      ]
    },
    {
      "metadata": {
        "id": "_NEWWQwidzEb",
        "colab_type": "code",
        "colab": {}
      },
      "cell_type": "code",
      "source": [
        "import math\n",
        "def plot_conv_layer(layer, image):\n",
        "    # Assume layer is a TensorFlow op that outputs a 4-dim tensor\n",
        "    # which is the output of a convolutional layer,\n",
        "    # e.g. layer_conv1 or layer_conv2.\n",
        "\n",
        "    # Create a feed-dict containing just one image.\n",
        "    # Note that we don't need to feed y_true because it is\n",
        "    # not used in this calculation.\n",
        "    feed_dict = {X: [image]}\n",
        "\n",
        "    # Calculate and retrieve the output values of the layer\n",
        "    # when inputting that image.\n",
        "    values = sess.run(layer, feed_dict=feed_dict)\n",
        "\n",
        "    # Number of filters used in the conv. layer.\n",
        "    num_filters = values.shape[3]\n",
        "\n",
        "    # Number of grids to plot.\n",
        "    # Rounded-up, square-root of the number of filters.\n",
        "    num_grids = math.ceil(math.sqrt(num_filters))\n",
        "    \n",
        "    # Create figure with a grid of sub-plots.\n",
        "    fig, axes = plt.subplots(num_grids, num_grids)\n",
        "\n",
        "    # Plot the output images of all the filters.\n",
        "    for i, ax in enumerate(axes.flat):\n",
        "        # Only plot the images for valid filters.\n",
        "        if i<num_filters:\n",
        "            # Get the output image of using the i'th filter.\n",
        "            # See new_conv_layer() for details on the format\n",
        "            # of this 4-dim tensor.\n",
        "            img = values[0, :, :, i]\n",
        "\n",
        "            # Plot image.\n",
        "            ax.imshow(img, interpolation='nearest', cmap='binary')\n",
        "        \n",
        "        # Remove ticks from the plot.\n",
        "        ax.set_xticks([])\n",
        "        ax.set_yticks([])\n",
        "    \n",
        "    # Ensure the plot is shown correctly with multiple plots\n",
        "    # in a single Notebook cell.\n",
        "    plt.show()"
      ],
      "execution_count": 0,
      "outputs": []
    },
    {
      "metadata": {
        "id": "Y7sZh8pEiYXM",
        "colab_type": "code",
        "colab": {}
      },
      "cell_type": "code",
      "source": [
        "\n"
      ],
      "execution_count": 0,
      "outputs": []
    }
  ]
}